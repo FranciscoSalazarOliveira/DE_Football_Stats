{
 "cells": [
  {
   "cell_type": "code",
   "execution_count": 6,
   "metadata": {},
   "outputs": [
    {
     "name": "stdout",
     "output_type": "stream",
     "text": [
      "Data from all CSV files in bucket_jogos/csv/ has been uploaded to dataset_projeto.tbl_jogos\n"
     ]
    }
   ],
   "source": [
    "from google.cloud import storage, bigquery\n",
    "\n",
    "# Set up the Google Cloud Storage client\n",
    "storage_client = storage.Client()\n",
    "\n",
    "# Set the bucket name\n",
    "bucket_name = \"bucket_name\" # Needs to be changed\n",
    "folder_prefix = \"csv/\"\n",
    "bucket = storage_client.bucket(bucket_name)\n",
    "\n",
    "\n",
    "\n",
    "# Set the project ID\n",
    "project_id = \"project_ID\" # Needs to be changed\n",
    "\n",
    "# Set up the BigQuery client with the correct project ID\n",
    "bigquery_client = bigquery.Client(project=project_id)\n",
    "\n",
    "\n",
    "\n",
    "\n",
    "# Set the dataset and table names\n",
    "dataset_id = \"dataset_ID\" # Needs to be changed\n",
    "table_id = \"tbl_ID\" # Needs to be changed\n",
    "\n",
    "# Create the dataset if it doesn't exist\n",
    "dataset_ref = bigquery_client.dataset(dataset_id)\n",
    "try:\n",
    "    bigquery_client.get_dataset(dataset_ref)\n",
    "except:\n",
    "    dataset = bigquery.Dataset(dataset_ref)\n",
    "    dataset.location = \"US\"  # e.g., \"US\"\n",
    "    dataset = bigquery_client.create_dataset(dataset)\n",
    "\n",
    "# Create the table if it doesn't exist\n",
    "table_ref = dataset_ref.table(table_id)\n",
    "try:\n",
    "    bigquery_client.get_table(table_ref)\n",
    "except:\n",
    "    table = bigquery.Table(table_ref)\n",
    "    table = bigquery_client.create_table(table)\n",
    "\n",
    "\n",
    "\"\"\" \n",
    "# Delete all existing records from the table\n",
    "delete_query = f\"DELETE FROM `{dataset_id}.{table_id}` WHERE TRUE\"\n",
    "bigquery_client.query(delete_query).result()\n",
    "\n",
    "\"\"\"\n",
    "\n",
    "# Iterate over all CSV files in the specified folder\n",
    "for blob in bucket.list_blobs(prefix=folder_prefix, delimiter=\"/\"):\n",
    "    if blob.name.endswith(\".csv\"):\n",
    "        # Load the CSV file into the BigQuery table\n",
    "        job_config = bigquery.LoadJobConfig(\n",
    "            source_format=bigquery.SourceFormat.CSV,\n",
    "            autodetect=True,\n",
    "            write_disposition=bigquery.WriteDisposition.WRITE_APPEND  # This will overwrite the table data\n",
    "        )\n",
    "\n",
    "        with blob.open(\"rb\") as source_file:\n",
    "            job = bigquery_client.load_table_from_file(\n",
    "                source_file,\n",
    "                f\"{dataset_id}.{table_id}\",\n",
    "                job_config=job_config,\n",
    "            )\n",
    "\n",
    "        job.result()  # Wait for the job to complete\n",
    "\n",
    "print(f\"Data from all CSV files in {bucket_name}/{folder_prefix} has been uploaded to {dataset_id}.{table_id}\")"
   ]
  }
 ],
 "metadata": {
  "kernelspec": {
   "display_name": "base",
   "language": "python",
   "name": "python3"
  },
  "language_info": {
   "codemirror_mode": {
    "name": "ipython",
    "version": 3
   },
   "file_extension": ".py",
   "mimetype": "text/x-python",
   "name": "python",
   "nbconvert_exporter": "python",
   "pygments_lexer": "ipython3",
   "version": "3.11.7"
  }
 },
 "nbformat": 4,
 "nbformat_minor": 2
}
